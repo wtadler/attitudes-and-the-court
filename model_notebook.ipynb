{
 "cells": [
  {
   "cell_type": "code",
   "execution_count": 1,
   "metadata": {
    "collapsed": true
   },
   "outputs": [],
   "source": [
    "import pandas as pd\n",
    "import numpy as np\n",
    "import functions as f\n",
    "from sklearn import linear_model"
   ]
  },
  {
   "cell_type": "code",
   "execution_count": 109,
   "metadata": {
    "collapsed": false
   },
   "outputs": [
    {
     "name": "stdout",
     "output_type": "stream",
     "text": [
      "Loaded 57061 rows...\n",
      "Done!\n"
     ]
    }
   ],
   "source": [
    "# choose cols to import. goes very slowly if you try to import everything, and some cols make it error. see file\n",
    "import_cols = ['racdin', 'year', 'age', 'sex', 'race', 'region', 'educ', 'relig']\n",
    "# import_cols = ['racdin', 'year', 'age', 'sex']\n",
    "# these seem like all of the relevant categories. Some of them don't plot nicely yet.\n",
    "\n",
    "# make sure that in your repo, there is a symlink (named 'data') to the real 'data' folder\n",
    "def data_loc(filename):\n",
    "    import os\n",
    "    return os.path.join(os.readlink('data'), filename)\n",
    "\n",
    "# if you make changes to functions.py, use this before running anything:\n",
    "reload(f)\n",
    "\n",
    "# chunksize must be None or >= 57061 rows (for GSS), because of pandas flaw\n",
    "gss = f.load_dta(data_loc('GSS7212_R2.DTA'), chunksize = None,\n",
    "                 columns = import_cols)\n",
    "\n"
   ]
  },
  {
   "cell_type": "code",
   "execution_count": 110,
   "metadata": {
    "collapsed": false
   },
   "outputs": [
    {
     "name": "stdout",
     "output_type": "stream",
     "text": [
      "<class 'pandas.core.frame.DataFrame'>\n",
      "Int64Index: 57061 entries, 0 to 57060\n",
      "Data columns (total 8 columns):\n",
      "racdin    12033 non-null category\n",
      "year      57061 non-null int16\n",
      "age       56859 non-null category\n",
      "sex       57061 non-null category\n",
      "race      57061 non-null category\n",
      "region    57061 non-null category\n",
      "educ      56897 non-null category\n",
      "relig     56828 non-null category\n",
      "dtypes: category(7), int16(1)\n",
      "memory usage: 948.3 KB\n"
     ]
    }
   ],
   "source": [
    "# what the df looks like before modification\n",
    "gss.info()"
   ]
  },
  {
   "cell_type": "code",
   "execution_count": 111,
   "metadata": {
    "collapsed": false
   },
   "outputs": [],
   "source": [
    "# drop all rows where y variable is NA\n",
    "gss = gss[gss['racdin'].notnull()]\n",
    "# change age to number (89+ just coded as 89)\n",
    "gss.age = gss.age.cat.codes + 18"
   ]
  },
  {
   "cell_type": "code",
   "execution_count": 112,
   "metadata": {
    "collapsed": true
   },
   "outputs": [],
   "source": [
    "# map sex to numeric\n",
    "gss.sex = gss.sex.map({'female': 0, 'male': 1}).astype(int)"
   ]
  },
  {
   "cell_type": "code",
   "execution_count": 113,
   "metadata": {
    "collapsed": true
   },
   "outputs": [],
   "source": [
    "# change racdin to numeric\n",
    "gss.racdin = gss.racdin.map({'strongly object': -1, 'mildly object': 0, 'not object': 1}).astype(int)"
   ]
  },
  {
   "cell_type": "code",
   "execution_count": 116,
   "metadata": {
    "collapsed": false
   },
   "outputs": [],
   "source": [
    "# fill in missing educ values with mean\n",
    "gss.educ = gss.educ.cat.codes\n",
    "educ_mean = gss.educ.mean()\n",
    "gss.educ = gss.educ.replace(-1, educ_mean)"
   ]
  },
  {
   "cell_type": "code",
   "execution_count": 117,
   "metadata": {
    "collapsed": false
   },
   "outputs": [],
   "source": [
    "# change categorical variables to one-hot encoding\n",
    "gss = pd.concat([gss, pd.get_dummies(gss['race'], prefix='race')], axis=1)\n",
    "gss = pd.concat([gss, pd.get_dummies(gss['region'], prefix='region')], axis=1)\n",
    "gss = pd.concat([gss, pd.get_dummies(gss['relig'], prefix='relig')], axis=1)"
   ]
  },
  {
   "cell_type": "code",
   "execution_count": 118,
   "metadata": {
    "collapsed": false
   },
   "outputs": [],
   "source": [
    "gss = gss.drop(['race', 'region', 'relig'], axis=1)"
   ]
  },
  {
   "cell_type": "code",
   "execution_count": 129,
   "metadata": {
    "collapsed": false
   },
   "outputs": [],
   "source": [
    "# add interactions with time\n",
    "columns = gss.columns.tolist()\n",
    "for c in columns[2:]:\n",
    "    gss[c + '_X_year'] = gss[c] * gss['year']"
   ]
  },
  {
   "cell_type": "code",
   "execution_count": 130,
   "metadata": {
    "collapsed": false
   },
   "outputs": [
    {
     "name": "stdout",
     "output_type": "stream",
     "text": [
      "<class 'pandas.core.frame.DataFrame'>\n",
      "Int64Index: 12033 entries, 0 to 18585\n",
      "Data columns (total 58 columns):\n",
      "racdin                                  12033 non-null int64\n",
      "year                                    12033 non-null int16\n",
      "age                                     12033 non-null int8\n",
      "sex                                     12033 non-null int64\n",
      "educ                                    12033 non-null float64\n",
      "race_white                              12033 non-null float64\n",
      "race_black                              12033 non-null float64\n",
      "race_other                              12033 non-null float64\n",
      "region_new england                      12033 non-null float64\n",
      "region_middle atlantic                  12033 non-null float64\n",
      "region_e. nor. central                  12033 non-null float64\n",
      "region_w. nor. central                  12033 non-null float64\n",
      "region_south atlantic                   12033 non-null float64\n",
      "region_e. sou. central                  12033 non-null float64\n",
      "region_w. sou. central                  12033 non-null float64\n",
      "region_mountain                         12033 non-null float64\n",
      "region_pacific                          12033 non-null float64\n",
      "relig_protestant                        12033 non-null float64\n",
      "relig_catholic                          12033 non-null float64\n",
      "relig_jewish                            12033 non-null float64\n",
      "relig_none                              12033 non-null float64\n",
      "relig_other                             12033 non-null float64\n",
      "relig_buddhism                          12033 non-null float64\n",
      "relig_hinduism                          12033 non-null float64\n",
      "relig_other eastern                     12033 non-null float64\n",
      "relig_moslem/islam                      12033 non-null float64\n",
      "relig_orthodox-christian                12033 non-null float64\n",
      "relig_christian                         12033 non-null float64\n",
      "relig_native american                   12033 non-null float64\n",
      "relig_inter-nondenominational           12033 non-null float64\n",
      "age_X_year                              12033 non-null int16\n",
      "sex_X_year                              12033 non-null int64\n",
      "educ_X_year                             12033 non-null float64\n",
      "race_white_X_year                       12033 non-null float64\n",
      "race_black_X_year                       12033 non-null float64\n",
      "race_other_X_year                       12033 non-null float64\n",
      "region_new england_X_year               12033 non-null float64\n",
      "region_middle atlantic_X_year           12033 non-null float64\n",
      "region_e. nor. central_X_year           12033 non-null float64\n",
      "region_w. nor. central_X_year           12033 non-null float64\n",
      "region_south atlantic_X_year            12033 non-null float64\n",
      "region_e. sou. central_X_year           12033 non-null float64\n",
      "region_w. sou. central_X_year           12033 non-null float64\n",
      "region_mountain_X_year                  12033 non-null float64\n",
      "region_pacific_X_year                   12033 non-null float64\n",
      "relig_protestant_X_year                 12033 non-null float64\n",
      "relig_catholic_X_year                   12033 non-null float64\n",
      "relig_jewish_X_year                     12033 non-null float64\n",
      "relig_none_X_year                       12033 non-null float64\n",
      "relig_other_X_year                      12033 non-null float64\n",
      "relig_buddhism_X_year                   12033 non-null float64\n",
      "relig_hinduism_X_year                   12033 non-null float64\n",
      "relig_other eastern_X_year              12033 non-null float64\n",
      "relig_moslem/islam_X_year               12033 non-null float64\n",
      "relig_orthodox-christian_X_year         12033 non-null float64\n",
      "relig_christian_X_year                  12033 non-null float64\n",
      "relig_native american_X_year            12033 non-null float64\n",
      "relig_inter-nondenominational_X_year    12033 non-null float64\n",
      "dtypes: float64(52), int16(2), int64(3), int8(1)\n",
      "memory usage: 5.2 MB\n"
     ]
    }
   ],
   "source": [
    "gss.info()"
   ]
  },
  {
   "cell_type": "code",
   "execution_count": 148,
   "metadata": {
    "collapsed": false
   },
   "outputs": [
    {
     "name": "stdout",
     "output_type": "stream",
     "text": [
      "(10033, 58)\n",
      "(2000, 58)\n"
     ]
    }
   ],
   "source": [
    "# randomly split out 2000 test examples\n",
    "gss = gss.iloc[np.random.permutation(len(gss))]\n",
    "traindata = gss.values[0:(len(gss)-2000), 0:]\n",
    "testdata = gss.values[(len(gss)-2000):, 0:]\n",
    "print traindata.shape\n",
    "print testdata.shape"
   ]
  },
  {
   "cell_type": "code",
   "execution_count": 149,
   "metadata": {
    "collapsed": false
   },
   "outputs": [
    {
     "data": {
      "text/plain": [
       "Ridge(alpha=1.0, copy_X=True, fit_intercept=True, max_iter=None,\n",
       "   normalize=False, random_state=None, solver='auto', tol=0.001)"
      ]
     },
     "execution_count": 149,
     "metadata": {},
     "output_type": "execute_result"
    }
   ],
   "source": [
    "regmodel = linear_model.Ridge()\n",
    "regmodel.fit(traindata[0:, 1:], traindata[0:, 0])"
   ]
  },
  {
   "cell_type": "code",
   "execution_count": 150,
   "metadata": {
    "collapsed": false
   },
   "outputs": [
    {
     "name": "stdout",
     "output_type": "stream",
     "text": [
      "0.109869632717\n",
      "0.124533292165\n"
     ]
    }
   ],
   "source": [
    "print regmodel.score(traindata[0:, 1:], traindata[0:, 0])\n",
    "print regmodel.score(testdata[0:, 1:], testdata[0:, 0])"
   ]
  },
  {
   "cell_type": "code",
   "execution_count": 133,
   "metadata": {
    "collapsed": false
   },
   "outputs": [
    {
     "data": {
      "text/plain": [
       "12033"
      ]
     },
     "execution_count": 133,
     "metadata": {},
     "output_type": "execute_result"
    }
   ],
   "source": []
  },
  {
   "cell_type": "code",
   "execution_count": null,
   "metadata": {
    "collapsed": true
   },
   "outputs": [],
   "source": []
  }
 ],
 "metadata": {
  "kernelspec": {
   "display_name": "Python 2",
   "language": "python",
   "name": "python2"
  },
  "language_info": {
   "codemirror_mode": {
    "name": "ipython",
    "version": 2
   },
   "file_extension": ".py",
   "mimetype": "text/x-python",
   "name": "python",
   "nbconvert_exporter": "python",
   "pygments_lexer": "ipython2",
   "version": "2.7.11"
  }
 },
 "nbformat": 4,
 "nbformat_minor": 0
}
