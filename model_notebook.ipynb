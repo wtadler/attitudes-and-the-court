{
 "cells": [
  {
   "cell_type": "code",
   "execution_count": 2,
   "metadata": {
    "collapsed": false
   },
   "outputs": [
    {
     "data": {
      "text/plain": [
       "<module 'functions' from 'functions.pyc'>"
      ]
     },
     "execution_count": 2,
     "metadata": {},
     "output_type": "execute_result"
    }
   ],
   "source": [
    "import pandas as pd\n",
    "import numpy as np\n",
    "import functions as f\n",
    "from sklearn import linear_model\n",
    "\n",
    "import seaborn as sns\n",
    "\n",
    "%matplotlib inline\n",
    "%config InlineBackend.figure_format = 'svg'\n",
    "sns.set_style('darkgrid')\n",
    "\n",
    "# make sure that in your repo, there is a symlink (named 'data') to the real 'data' folder\n",
    "def data_loc(filename):\n",
    "    import os\n",
    "    return os.path.join(os.readlink('data'), filename)\n",
    "\n",
    "# if you make changes to functions.py, use this before running anything:\n",
    "reload(f)"
   ]
  },
  {
   "cell_type": "markdown",
   "metadata": {},
   "source": [
    "# Import and preprocess court data"
   ]
  },
  {
   "cell_type": "code",
   "execution_count": 3,
   "metadata": {
    "collapsed": false
   },
   "outputs": [
    {
     "name": "stdout",
     "output_type": "stream",
     "text": [
      "Loaded 153 rows...\n",
      "Done!\n",
      "Loaded 308 rows...\n",
      "Done!\n"
     ]
    }
   ],
   "source": [
    "# choose cols to import. goes very slowly if you try to import everything, and some cols make it error. see file\n",
    "# import_cols = ['attend', 'racdin', 'racmar', 'year']\n",
    "\n",
    "# chunksize must be None or >= 57061 rows (for GSS), because of pandas flaw\n",
    "aff_ac = f.load_dta(data_loc('Circuit Cases/affirmative_action_panel_level.dta'), chunksize = None)\n",
    "race_discr = f.load_dta(data_loc('Circuit Cases/race_discrimination_panel_level.dta'), chunksize = None)\n",
    "\n",
    "aff_ac['casetype'] = \"aff_ac\"\n",
    "race_discr['casetype'] = \"race_discr\"\n",
    "\n",
    "# join the two datasets, convert the date\n",
    "joint = pd.concat([aff_ac, race_discr]) \n",
    "joint['date'] = pd.to_datetime(joint.year.astype(int)*10000 + joint.month.astype(int)*100 + np.random.randint(1, 29, size = len(joint)), format='%Y%m%d')"
   ]
  },
  {
   "cell_type": "code",
   "execution_count": 4,
   "metadata": {
    "collapsed": false
   },
   "outputs": [],
   "source": [
    "joint = joint[[\"circuit\", \"year\", \"panelvote\", \"casetype\"]]\n",
    "joint.year = joint.year.astype(int)"
   ]
  },
  {
   "cell_type": "code",
   "execution_count": 5,
   "metadata": {
    "collapsed": true
   },
   "outputs": [],
   "source": [
    "joint['votelib'] = joint['panelvote']\n",
    "joint['votecons'] = 3 - joint['panelvote']\n",
    "joint['votenorm'] = 1.5 - joint['panelvote']"
   ]
  },
  {
   "cell_type": "code",
   "execution_count": 6,
   "metadata": {
    "collapsed": false,
    "scrolled": true
   },
   "outputs": [
    {
     "data": {
      "text/plain": [
       "count     461.000000\n",
       "mean     1996.876356\n",
       "std         5.784904\n",
       "min      1980.000000\n",
       "25%      1995.000000\n",
       "50%      1998.000000\n",
       "75%      2001.000000\n",
       "max      2004.000000\n",
       "Name: year, dtype: float64"
      ]
     },
     "execution_count": 6,
     "metadata": {},
     "output_type": "execute_result"
    }
   ],
   "source": [
    "joint.year.describe()"
   ]
  },
  {
   "cell_type": "code",
   "execution_count": 7,
   "metadata": {
    "collapsed": false
   },
   "outputs": [],
   "source": [
    "groupby_type = joint.groupby('casetype')"
   ]
  },
  {
   "cell_type": "code",
   "execution_count": 8,
   "metadata": {
    "collapsed": false
   },
   "outputs": [
    {
     "data": {
      "text/plain": [
       "casetype         \n",
       "aff_ac      count     153.000000\n",
       "            mean     1991.751634\n",
       "            std         6.958789\n",
       "            min      1980.000000\n",
       "            25%      1986.000000\n",
       "            50%      1992.000000\n",
       "            75%      1998.000000\n",
       "            max      2003.000000\n",
       "race_discr  count     308.000000\n",
       "            mean     1999.422078\n",
       "            std         2.564560\n",
       "            min      1995.000000\n",
       "            25%      1997.000000\n",
       "            50%      2000.000000\n",
       "            75%      2001.000000\n",
       "            max      2004.000000\n",
       "dtype: float64"
      ]
     },
     "execution_count": 8,
     "metadata": {},
     "output_type": "execute_result"
    }
   ],
   "source": [
    "groupby_type.year.describe()"
   ]
  },
  {
   "cell_type": "code",
   "execution_count": 9,
   "metadata": {
    "collapsed": false
   },
   "outputs": [],
   "source": [
    "groupby_year_type = joint.groupby(['casetype', 'year'])\n",
    "groupby_year_type = groupby_year_type.votenorm.aggregate(np.sum).reset_index()\n",
    "# lets just take affirmative action cases for now\n",
    "affirm_year = groupby_year_type[groupby_year_type['casetype']=='aff_ac'].set_index('year')\n"
   ]
  },
  {
   "cell_type": "code",
   "execution_count": 10,
   "metadata": {
    "collapsed": false
   },
   "outputs": [],
   "source": [
    "years = []\n",
    "lags = []\n",
    "casesums = []\n",
    "for y in range(1985, 2005):\n",
    "    for l in range(1, 6):\n",
    "        years.append(y)\n",
    "        lags.append(l)\n",
    "        casesums.append(affirm_year.at[y-l, 'votenorm'])"
   ]
  },
  {
   "cell_type": "code",
   "execution_count": 11,
   "metadata": {
    "collapsed": false
   },
   "outputs": [],
   "source": [
    "affirm_5yr = pd.DataFrame({'year': years, 'lag': lags, 'casesum': casesums})"
   ]
  },
  {
   "cell_type": "code",
   "execution_count": 12,
   "metadata": {
    "collapsed": false
   },
   "outputs": [],
   "source": [
    "affirm_5yr = affirm_5yr.set_index(['year', 'lag'])"
   ]
  },
  {
   "cell_type": "markdown",
   "metadata": {},
   "source": [
    "# Import and preprocess GSS data"
   ]
  },
  {
   "cell_type": "code",
   "execution_count": 13,
   "metadata": {
    "collapsed": false
   },
   "outputs": [
    {
     "name": "stdout",
     "output_type": "stream",
     "text": [
      "Loaded 57061 rows...\n",
      "Done!\n"
     ]
    }
   ],
   "source": [
    "# choose cols to import. goes very slowly if you try to import everything, and some cols make it error. see file\n",
    "import_cols = ['affrmact','id', 'year', 'age', 'sex', 'race', 'region', 'educ', 'relig']\n",
    "# import_cols = ['racdin', 'year', 'age', 'sex']\n",
    "# these seem like all of the relevant categories. Some of them don't plot nicely yet.\n",
    "\n",
    "\n",
    "\n",
    "# chunksize must be None or >= 57061 rows (for GSS), because of pandas flaw\n",
    "gss = f.load_dta(data_loc('GSS7212_R2.DTA'), chunksize = None,\n",
    "                 columns = import_cols)\n",
    "\n"
   ]
  },
  {
   "cell_type": "code",
   "execution_count": 14,
   "metadata": {
    "collapsed": false
   },
   "outputs": [],
   "source": [
    "# Add prejudice composite\n",
    "prej = pd.read_csv(\"composites/prejudiceVar.csv\")\n",
    "gss = gss.merge(prej,'left',on=[\"year\",\"id\"])"
   ]
  },
  {
   "cell_type": "code",
   "execution_count": 15,
   "metadata": {
    "collapsed": false
   },
   "outputs": [
    {
     "name": "stdout",
     "output_type": "stream",
     "text": [
      "<class 'pandas.core.frame.DataFrame'>\n",
      "Int64Index: 57061 entries, 0 to 57060\n",
      "Data columns (total 10 columns):\n",
      "affrmact     14128 non-null object\n",
      "id           57061 non-null int16\n",
      "year         57061 non-null int16\n",
      "age          56859 non-null object\n",
      "sex          57061 non-null object\n",
      "race         57061 non-null object\n",
      "region       57061 non-null object\n",
      "educ         56897 non-null float64\n",
      "relig        56828 non-null object\n",
      "prejudice    34684 non-null float64\n",
      "dtypes: float64(2), int16(2), object(6)\n",
      "memory usage: 4.1+ MB\n"
     ]
    }
   ],
   "source": [
    "# what the df looks like before modification\n",
    "gss.info()"
   ]
  },
  {
   "cell_type": "code",
   "execution_count": 16,
   "metadata": {
    "collapsed": false
   },
   "outputs": [
    {
     "data": {
      "text/plain": [
       "array([nan, 'strongly support pref', 'strongly oppose pref',\n",
       "       'support pref', 'oppose pref'], dtype=object)"
      ]
     },
     "execution_count": 16,
     "metadata": {},
     "output_type": "execute_result"
    }
   ],
   "source": [
    "gss.affrmact.unique()"
   ]
  },
  {
   "cell_type": "code",
   "execution_count": 23,
   "metadata": {
    "collapsed": false
   },
   "outputs": [
    {
     "data": {
      "text/plain": [
       "count    14128.000000\n",
       "mean      2002.538930\n",
       "std          5.777477\n",
       "min       1994.000000\n",
       "25%       1998.000000\n",
       "50%       2002.000000\n",
       "75%       2008.000000\n",
       "max       2012.000000\n",
       "Name: year, dtype: float64"
      ]
     },
     "execution_count": 23,
     "metadata": {},
     "output_type": "execute_result"
    }
   ],
   "source": [
    "gss.year.describe()"
   ]
  },
  {
   "cell_type": "code",
   "execution_count": 18,
   "metadata": {
    "collapsed": true
   },
   "outputs": [],
   "source": [
    "# drop all rows where y variable is NA\n",
    "gss = gss[gss['affrmact'].notnull()]"
   ]
  },
  {
   "cell_type": "code",
   "execution_count": 24,
   "metadata": {
    "collapsed": false
   },
   "outputs": [
    {
     "ename": "AttributeError",
     "evalue": "'Series' object has no attribute 'codes'",
     "output_type": "error",
     "traceback": [
      "\u001b[0;31m---------------------------------------------------------------------------\u001b[0m",
      "\u001b[0;31mAttributeError\u001b[0m                            Traceback (most recent call last)",
      "\u001b[0;32m<ipython-input-24-571ae1bfecd0>\u001b[0m in \u001b[0;36m<module>\u001b[0;34m()\u001b[0m\n\u001b[1;32m      1\u001b[0m \u001b[0;31m# change age to number (89+ just coded as 89)\u001b[0m\u001b[0;34m\u001b[0m\u001b[0;34m\u001b[0m\u001b[0m\n\u001b[0;32m----> 2\u001b[0;31m \u001b[0mgss\u001b[0m\u001b[0;34m.\u001b[0m\u001b[0mage\u001b[0m \u001b[0;34m=\u001b[0m \u001b[0mgss\u001b[0m\u001b[0;34m.\u001b[0m\u001b[0mage\u001b[0m\u001b[0;34m.\u001b[0m\u001b[0mcodes\u001b[0m \u001b[0;34m+\u001b[0m \u001b[0;36m18\u001b[0m\u001b[0;34m\u001b[0m\u001b[0m\n\u001b[0m\u001b[1;32m      3\u001b[0m \u001b[0mage_mean\u001b[0m \u001b[0;34m=\u001b[0m \u001b[0mgss\u001b[0m\u001b[0;34m.\u001b[0m\u001b[0mage\u001b[0m\u001b[0;34m.\u001b[0m\u001b[0mmean\u001b[0m\u001b[0;34m(\u001b[0m\u001b[0;34m)\u001b[0m\u001b[0;34m\u001b[0m\u001b[0m\n\u001b[1;32m      4\u001b[0m \u001b[0mgss\u001b[0m\u001b[0;34m.\u001b[0m\u001b[0mage\u001b[0m \u001b[0;34m=\u001b[0m \u001b[0mgss\u001b[0m\u001b[0;34m.\u001b[0m\u001b[0mage\u001b[0m\u001b[0;34m.\u001b[0m\u001b[0mfillna\u001b[0m\u001b[0;34m(\u001b[0m\u001b[0mage_mean\u001b[0m\u001b[0;34m)\u001b[0m\u001b[0;34m\u001b[0m\u001b[0m\n",
      "\u001b[0;32m/Users/annacoenen/anaconda/lib/python2.7/site-packages/pandas/core/generic.py\u001b[0m in \u001b[0;36m__getattr__\u001b[0;34m(self, name)\u001b[0m\n\u001b[1;32m   2667\u001b[0m             \u001b[0;32mif\u001b[0m \u001b[0mname\u001b[0m \u001b[0;32min\u001b[0m \u001b[0mself\u001b[0m\u001b[0;34m.\u001b[0m\u001b[0m_info_axis\u001b[0m\u001b[0;34m:\u001b[0m\u001b[0;34m\u001b[0m\u001b[0m\n\u001b[1;32m   2668\u001b[0m                 \u001b[0;32mreturn\u001b[0m \u001b[0mself\u001b[0m\u001b[0;34m[\u001b[0m\u001b[0mname\u001b[0m\u001b[0;34m]\u001b[0m\u001b[0;34m\u001b[0m\u001b[0m\n\u001b[0;32m-> 2669\u001b[0;31m             \u001b[0;32mreturn\u001b[0m \u001b[0mobject\u001b[0m\u001b[0;34m.\u001b[0m\u001b[0m__getattribute__\u001b[0m\u001b[0;34m(\u001b[0m\u001b[0mself\u001b[0m\u001b[0;34m,\u001b[0m \u001b[0mname\u001b[0m\u001b[0;34m)\u001b[0m\u001b[0;34m\u001b[0m\u001b[0m\n\u001b[0m\u001b[1;32m   2670\u001b[0m \u001b[0;34m\u001b[0m\u001b[0m\n\u001b[1;32m   2671\u001b[0m     \u001b[0;32mdef\u001b[0m \u001b[0m__setattr__\u001b[0m\u001b[0;34m(\u001b[0m\u001b[0mself\u001b[0m\u001b[0;34m,\u001b[0m \u001b[0mname\u001b[0m\u001b[0;34m,\u001b[0m \u001b[0mvalue\u001b[0m\u001b[0;34m)\u001b[0m\u001b[0;34m:\u001b[0m\u001b[0;34m\u001b[0m\u001b[0m\n",
      "\u001b[0;31mAttributeError\u001b[0m: 'Series' object has no attribute 'codes'"
     ]
    }
   ],
   "source": [
    "# change age to number (89+ just coded as 89)\n",
    "gss.age = gss.age.cat.codes + 18\n",
    "age_mean = gss.age.mean()\n",
    "gss.age = gss.age.fillna(age_mean)"
   ]
  },
  {
   "cell_type": "code",
   "execution_count": null,
   "metadata": {
    "collapsed": true
   },
   "outputs": [],
   "source": [
    "# map sex to numeric\n",
    "gss.sex = gss.sex.map({'female': 0, 'male': 1}).astype(int)"
   ]
  },
  {
   "cell_type": "code",
   "execution_count": null,
   "metadata": {
    "collapsed": false
   },
   "outputs": [],
   "source": [
    "# change racdin to numeric\n",
    "gss.affrmact = gss.affrmact.map({'strongly support pref': 1.5, 'support pref': .5, 'oppose pref': -.5, 'strongly oppose pref': -1.5})"
   ]
  },
  {
   "cell_type": "code",
   "execution_count": null,
   "metadata": {
    "collapsed": false
   },
   "outputs": [],
   "source": [
    "# fill in missing educ values with mean\n",
    "gss.educ = gss.educ.cat.codes\n",
    "educ_mean = gss.educ.mean()\n",
    "gss.educ = gss.educ.replace(-1, educ_mean)\n"
   ]
  },
  {
   "cell_type": "code",
   "execution_count": null,
   "metadata": {
    "collapsed": true
   },
   "outputs": [],
   "source": [
    "gss = gss[(gss['year'] > 1984) & (gss['year'] < 2005)]"
   ]
  },
  {
   "cell_type": "code",
   "execution_count": null,
   "metadata": {
    "collapsed": false
   },
   "outputs": [],
   "source": [
    "gss = gss.reset_index()"
   ]
  },
  {
   "cell_type": "code",
   "execution_count": null,
   "metadata": {
    "collapsed": false
   },
   "outputs": [],
   "source": [
    "for l in range(1, 6):\n",
    "    gss['courtlag' + str(l)] = 0\n",
    "for i in range(len(gss)):\n",
    "    curr_year = gss.loc[i, 'year']\n",
    "    for l in range(1, 6):\n",
    "        gss.loc[i, 'courtlag' + str(l)] = affirm_5yr.loc[(curr_year, l), 'casesum'] \n",
    "    "
   ]
  },
  {
   "cell_type": "code",
   "execution_count": null,
   "metadata": {
    "collapsed": false
   },
   "outputs": [],
   "source": [
    "gss['year'] = gss.year - gss.year.mean()"
   ]
  },
  {
   "cell_type": "code",
   "execution_count": null,
   "metadata": {
    "collapsed": false
   },
   "outputs": [],
   "source": [
    "# change categorical variables to one-hot encoding\n",
    "gss = pd.concat([gss, pd.get_dummies(gss['race'], prefix='race')], axis=1)\n",
    "gss = pd.concat([gss, pd.get_dummies(gss['region'], prefix='region')], axis=1)\n",
    "gss = pd.concat([gss, pd.get_dummies(gss['relig'], prefix='relig')], axis=1)"
   ]
  },
  {
   "cell_type": "code",
   "execution_count": null,
   "metadata": {
    "collapsed": false
   },
   "outputs": [],
   "source": [
    "gss = gss.drop(['race', 'region', 'relig'], axis=1)"
   ]
  },
  {
   "cell_type": "code",
   "execution_count": null,
   "metadata": {
    "collapsed": false
   },
   "outputs": [],
   "source": [
    "# add interactions with time\n",
    "columns = gss.columns.tolist()\n",
    "for c in columns[2:]:\n",
    "    gss[c + '_X_year'] = gss[c] * gss['year']"
   ]
  },
  {
   "cell_type": "code",
   "execution_count": null,
   "metadata": {
    "collapsed": false
   },
   "outputs": [],
   "source": [
    "gss.info()"
   ]
  },
  {
   "cell_type": "code",
   "execution_count": null,
   "metadata": {
    "collapsed": false
   },
   "outputs": [],
   "source": [
    "# randomly split out 2000 test examples\n",
    "gss = gss.iloc[np.random.permutation(len(gss))]\n",
    "traindata = gss.values[0:(len(gss)-2000), 0:]\n",
    "testdata = gss.values[(len(gss)-2000):, 0:]\n",
    "print traindata.shape\n",
    "print testdata.shape"
   ]
  },
  {
   "cell_type": "code",
   "execution_count": null,
   "metadata": {
    "collapsed": false
   },
   "outputs": [],
   "source": [
    "regmodel = linear_model.Ridge()\n",
    "regmodel.fit(traindata[0:, 2:], traindata[0:, 1])"
   ]
  },
  {
   "cell_type": "code",
   "execution_count": null,
   "metadata": {
    "collapsed": false
   },
   "outputs": [],
   "source": [
    "print regmodel.score(traindata[0:, 2:], traindata[0:, 1])\n",
    "print regmodel.score(testdata[0:, 2:], testdata[0:, 1])"
   ]
  },
  {
   "cell_type": "code",
   "execution_count": null,
   "metadata": {
    "collapsed": false
   },
   "outputs": [],
   "source": [
    "results = pd.DataFrame({'param': gss.columns.tolist()[2:],\n",
    "                        'value': regmodel.coef_})"
   ]
  },
  {
   "cell_type": "code",
   "execution_count": null,
   "metadata": {
    "collapsed": false
   },
   "outputs": [],
   "source": [
    "sns.factorplot('value', 'param', kind=\"bar\", data=results, size=10, aspect=.7)"
   ]
  },
  {
   "cell_type": "code",
   "execution_count": null,
   "metadata": {
    "collapsed": false
   },
   "outputs": [],
   "source": [
    "gss.year.describe()"
   ]
  },
  {
   "cell_type": "code",
   "execution_count": null,
   "metadata": {
    "collapsed": true
   },
   "outputs": [],
   "source": []
  }
 ],
 "metadata": {
  "kernelspec": {
   "display_name": "Python 2",
   "language": "python",
   "name": "python2"
  },
  "language_info": {
   "codemirror_mode": {
    "name": "ipython",
    "version": 2
   },
   "file_extension": ".py",
   "mimetype": "text/x-python",
   "name": "python",
   "nbconvert_exporter": "python",
   "pygments_lexer": "ipython2",
   "version": "2.7.11"
  }
 },
 "nbformat": 4,
 "nbformat_minor": 0
}
